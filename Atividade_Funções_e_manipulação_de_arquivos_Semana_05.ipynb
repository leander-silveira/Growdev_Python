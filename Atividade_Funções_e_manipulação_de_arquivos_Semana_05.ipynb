{
  "nbformat": 4,
  "nbformat_minor": 0,
  "metadata": {
    "colab": {
      "provenance": []
    },
    "kernelspec": {
      "name": "python3",
      "display_name": "Python 3"
    },
    "language_info": {
      "name": "python"
    }
  },
  "cells": [
    {
      "cell_type": "markdown",
      "source": [
        "![Growdev](https://www.growdev.com.br/assets/images/logo_growdev.png)"
      ],
      "metadata": {
        "id": "v8pFWwviib2C"
      }
    },
    {
      "cell_type": "markdown",
      "source": [
        "![Formação Engenharia de Dados](https://d335luupugsy2.cloudfront.net/cms/files/524558/1707226566/$occu5m8t1op)"
      ],
      "metadata": {
        "id": "6Tkl4_HxifXZ"
      }
    },
    {
      "cell_type": "markdown",
      "source": [
        "Este material tem como objetivo incentivar a prática dos conteúdos estudados até o momento, e a pesquisa. Tenha em consideração que o exercício foi pensado para incentivar a prática dos conteúdos estudados até então, porém aprender a pesquisar faz parte do processo de aprendizagem.\n",
        "\n",
        "Fique tranquilo, faça os exercícios com calma, e boa prática!\n"
      ],
      "metadata": {
        "id": "ty7Bzyl1i9bN"
      }
    },
    {
      "cell_type": "markdown",
      "source": [
        "#Orientações:\n",
        "\n",
        " - Faça uma copia deste arquivo\n",
        " - Após concluir os exercicios, suba seu exercicio para o GitHub e compartilhe o link no **google** Classroom\n"
      ],
      "metadata": {
        "id": "DU5-yCQwjx3V"
      }
    },
    {
      "cell_type": "markdown",
      "source": [
        "#Exercícios"
      ],
      "metadata": {
        "id": "EzT810tnlmfE"
      }
    },
    {
      "cell_type": "markdown",
      "source": [
        "#Funções"
      ],
      "metadata": {
        "id": "rDqBAimhSq_C"
      }
    },
    {
      "cell_type": "markdown",
      "source": [
        "Escreva uma função chamada soma que recebe dois números como parâmetros e retorna a soma deles"
      ],
      "metadata": {
        "id": "AkBqdNST8bCY"
      }
    },
    {
      "cell_type": "code",
      "source": [
        "def soma(num1, num2):\n",
        "    return num1+num2\n",
        "\n",
        "somatorio = soma(2, 2)\n",
        "print(somatorio)"
      ],
      "metadata": {
        "id": "J427Pi2p8THC"
      },
      "execution_count": null,
      "outputs": []
    },
    {
      "cell_type": "markdown",
      "source": [
        "Escreva uma função chamada verificar_paridade que recebe um número como parâmetro e retorna True se for par e False se for ímpar."
      ],
      "metadata": {
        "id": "NAa3MBAM830W"
      }
    },
    {
      "cell_type": "code",
      "source": [
        "def verificar_paridade(num):\n",
        "    return num % 2 == 0\n",
        "\n",
        "print(verificar_paridade(2))\n",
        "print(verificar_paridade(3))"
      ],
      "metadata": {
        "id": "CRlV5NE82kpE"
      },
      "execution_count": null,
      "outputs": []
    },
    {
      "cell_type": "markdown",
      "source": [
        "Escreva uma função chamada verificar_palindromo que recebe uma string como parâmetro e retorna True se for um palíndromo (uma palavra que é igual se lida da esquerda para a direita e vice-versa) e False caso contrário."
      ],
      "metadata": {
        "id": "S7Rh1p4N8_dp"
      }
    },
    {
      "cell_type": "code",
      "source": [
        "def verificar_palindromo(string):\n",
        "    string = string.replace(\" \", \"\").lower()\n",
        "    return string == string[::-1]\n",
        "\n",
        "print(verificar_palindromo(\"ana\"))  # Saída: True\n",
        "print(verificar_palindromo(\"Ame a ema\"))  # Saída: True\n",
        "print(verificar_palindromo(\"python\"))  # Saída: False\n"
      ],
      "metadata": {
        "id": "jY3rGEWc9Gb5",
        "colab": {
          "base_uri": "https://localhost:8080/"
        },
        "outputId": "4c76e4fd-8cc5-45c3-bc13-1348e37196b2"
      },
      "execution_count": 53,
      "outputs": [
        {
          "output_type": "stream",
          "name": "stdout",
          "text": [
            "True\n",
            "True\n",
            "False\n"
          ]
        }
      ]
    },
    {
      "cell_type": "markdown",
      "source": [
        "##Desafio listas e funções:"
      ],
      "metadata": {
        "id": "suLU217H9G51"
      }
    },
    {
      "cell_type": "markdown",
      "source": [
        "Crie uma função que representa o jogo batalha naval.\n",
        "\n",
        "Dentro da função crie uma estrutura bidimensional utilizando listas com sublistas para representar um tabuleiro (1 lista com 20 elementos e cada elemento é uma lista de 20 elementos, tabuleiro 20x20). Cada posição irá armazenar 1 valor numérico que significa:\n",
        "- 0 - Água\n",
        "- 1 - Navio\n",
        "\n",
        "Para cada posição escolha esses valores aleatoriamente, respeitando a regra de que não podem existir mais de 20 navios no tabuleiro.\n",
        "\n",
        "Após os valores serem distribuídos, o programa deve pedir ao usuário uma posição do tabuleiro e informar se ele acertou um navio ou água e repetir o procedimento até que o usuário derrote todos os navios ou chegue ao limite de 35 tentativas.\n",
        "\n"
      ],
      "metadata": {
        "id": "zv3Edx_T-TF5"
      }
    },
    {
      "cell_type": "code",
      "source": [
        "import random\n",
        "\n",
        "# Criação do tabuleiro\n",
        "tabuleiro = [[0 for _ in range(20)] for _ in range(20)]\n",
        "navios_colocados = 0\n",
        "\n",
        "print(\"Tabuleiro:\")\n",
        "for row in tabuleiro:\n",
        "    print(row)\n",
        "\n",
        "\n",
        "\n",
        "# Colocação dos navios no tabuleiro\n",
        "while navios_colocados < 20:\n",
        "    x = random.randint(0, 19)\n",
        "    y = random.randint(0, 19)\n",
        "    if tabuleiro[x][y] == 0:\n",
        "        tabuleiro[x][y] = 1\n",
        "        navios_colocados += 1\n",
        "\n",
        "print(\"Tabuleiro com navios:\")\n",
        "for row in tabuleiro:\n",
        "    print(row)\n",
        "\n",
        "# Jogo\n",
        "tentativas = 0\n",
        "while tentativas < 35:\n",
        "    print(\"Tentativa\", tentativas + 1)\n",
        "\n",
        "    x = int(input(\"Digite a coordenada X (1-20): \"))-1\n",
        "    while x <0 or x > 19:\n",
        "        print(\"Coordenadas inválidas. Tente novamente.\")\n",
        "        x = int(input(\"Digite a coordenada X (1-20): \"))-1\n",
        "\n",
        "    y = int(input(\"Digite a coordenada Y (1-20): \"))-1\n",
        "    while y <0 or y > 19:\n",
        "        print(\"Coordenadas inválidas. Tente novamente.\")\n",
        "        y = int(input(\"Digite a coordenada X (1-20): \"))-1\n",
        "\n",
        "#    print(x,y)\n",
        "\n",
        "\n",
        "    if tabuleiro[x][y] == 1:\n",
        "        print(\"Você acertou um navio!\")\n",
        "        tabuleiro[x][y] = 0\n",
        "        if sum(sum(row) for row in tabuleiro) == 0:\n",
        "            print(\"Parabéns, você afundou todos os navios!\")\n",
        "            break\n",
        "    else:\n",
        "        print(\"Você errou!\")\n",
        "\n",
        "    tentativas += 1\n",
        "else:\n",
        "    print(\"Você excedeu o limite de tentativas. Game over.\")"
      ],
      "metadata": {
        "id": "BhHWwg54-H1j"
      },
      "execution_count": null,
      "outputs": []
    },
    {
      "cell_type": "markdown",
      "source": [
        "Modifique o programa anterior para exibir as seguintes estatísticas.\n",
        "- Acertos em água\n",
        "- Acertos em Navios\n",
        "- Porcentagem de acertos em água\n",
        "- Porcentagem de acertos em Navios\n",
        "- Acertos ininterruptos (maior quantidade de acertos em sequência)"
      ],
      "metadata": {
        "id": "WUXJN6Dg_GET"
      }
    },
    {
      "cell_type": "code",
      "source": [
        "import random\n",
        "\n",
        "# Criação do tabuleiro\n",
        "tabuleiro = [[0 for _ in range(20)] for _ in range(20)]\n",
        "navios_colocados = 0\n",
        "\n",
        "print(\"Tabuleiro:\")\n",
        "for row in tabuleiro:\n",
        "    print(row)\n",
        "\n",
        "\n",
        "\n",
        "# Colocação dos navios no tabuleiro\n",
        "while navios_colocados < 20:\n",
        "    x = random.randint(0, 19)\n",
        "    y = random.randint(0, 19)\n",
        "    if tabuleiro[x][y] == 0:\n",
        "        tabuleiro[x][y] = 1\n",
        "        navios_colocados += 1\n",
        "\n",
        "print(\"Tabuleiro com navios:\")\n",
        "for row in tabuleiro:\n",
        "    print(row)\n",
        "\n",
        "# Jogo\n",
        "tentativas = 0\n",
        "while tentativas < 35:\n",
        "    print(\"Tentativa\", tentativas + 1)\n",
        "\n",
        "    x = int(input(\"Digite a coordenada X (1-20): \"))-1\n",
        "    while x <0 or x > 19:\n",
        "        print(\"Coordenadas inválidas. Tente novamente.\")\n",
        "        x = int(input(\"Digite a coordenada X (1-20): \"))-1\n",
        "\n",
        "    y = int(input(\"Digite a coordenada Y (1-20): \"))-1\n",
        "    while y <0 or y > 19:\n",
        "        print(\"Coordenadas inválidas. Tente novamente.\")\n",
        "        y = int(input(\"Digite a coordenada X (1-20): \"))-1\n",
        "\n",
        "#    print(x,y)\n",
        "\n",
        "\n",
        "    if tabuleiro[x][y] == 1:\n",
        "        print(\"Você acertou um navio!\")\n",
        "        tabuleiro[x][y] = 0\n",
        "        if sum(sum(row) for row in tabuleiro) == 0:\n",
        "            print(\"Parabéns, você afundou todos os navios!\")\n",
        "            break\n",
        "    else:\n",
        "        print(\"Você errou!\")\n",
        "\n",
        "    tentativas += 1\n",
        "else:\n",
        "    print(\"Você excedeu o limite de tentativas. Game over.\")"
      ],
      "metadata": {
        "id": "N5itlDvd_Hbi"
      },
      "execution_count": null,
      "outputs": []
    },
    {
      "cell_type": "markdown",
      "source": [
        "#Manipulação de arquivos: Conteudo será trabalhado na aula do"
      ],
      "metadata": {
        "id": "ffEKF4Kx5eQu"
      }
    },
    {
      "cell_type": "markdown",
      "source": [
        "UUtilize o arquivo ‘compras.csv’ como base para resolver os seguintes exercícios.  disponivel em: https://drive.google.com/file/d/1cqqr7kWuBYYJxJ8W_-KHmcZHs6sfV_is/view"
      ],
      "metadata": {
        "id": "IrQvRhQM5oj6"
      }
    },
    {
      "cell_type": "markdown",
      "source": [
        "Utilize as seguintes faixas etárias nos exercícios em que for necessário.\n",
        "- Jovens, 18 a 25 anos\n",
        "- Adultos, 26 a 59 anos\n",
        "- Idosos, igual ou maior que 60 anos\n"
      ],
      "metadata": {
        "id": "J8g6sYrl3Xjg"
      }
    },
    {
      "cell_type": "markdown",
      "source": [
        "Função lista"
      ],
      "metadata": {
        "id": "ZJpTRgx3XdQd"
      }
    },
    {
      "cell_type": "code",
      "source": [
        "import csv\n",
        "\n",
        "def ler_csv_para_lista(caminho_arquivo):\n",
        "    dados = []\n",
        "    with open(caminho_arquivo, newline='', encoding='utf-8') as csvfile:\n",
        "        leitor = csv.reader(csvfile)\n",
        "        cabecalho = next(leitor)\n",
        "        for linha in leitor:\n",
        "            dados.append(linha)\n",
        "    return cabecalho, dados"
      ],
      "metadata": {
        "id": "Jh8PRzZpUaIZ"
      },
      "execution_count": 23,
      "outputs": []
    },
    {
      "cell_type": "code",
      "source": [
        "cabecalho, dados = ler_csv_para_lista('/compras.csv')"
      ],
      "metadata": {
        "id": "b1l4pxW4Ubwe"
      },
      "execution_count": 28,
      "outputs": []
    },
    {
      "cell_type": "code",
      "source": [
        "dados"
      ],
      "metadata": {
        "id": "BwqFs4TA-nIy"
      },
      "execution_count": null,
      "outputs": []
    },
    {
      "cell_type": "markdown",
      "source": [
        "função dicionário"
      ],
      "metadata": {
        "id": "51LKHrRRXfhF"
      }
    },
    {
      "cell_type": "code",
      "source": [
        "import csv\n",
        "\n",
        "def ler_csv_para_dicionario(caminho_arquivo):\n",
        "    dados = {}\n",
        "    with open(caminho_arquivo, newline='', encoding='utf-8') as csvfile:\n",
        "        leitor = csv.reader(csvfile)\n",
        "        cabecalho = next(leitor)  # Lê a linha de cabeçalho\n",
        "\n",
        "        for i, linha in enumerate(leitor):\n",
        "            individuo = {cabecalho[j]: linha[j] for j in range(len(cabecalho))}\n",
        "            dados[i] = individuo\n",
        "\n",
        "    return dados\n"
      ],
      "metadata": {
        "id": "EdtiIwqKVjtQ"
      },
      "execution_count": null,
      "outputs": []
    },
    {
      "cell_type": "code",
      "source": [
        "dados_dicionario = ler_csv_para_dicionario('/compras.csv')"
      ],
      "metadata": {
        "id": "5_wCLU4DVlds"
      },
      "execution_count": null,
      "outputs": []
    },
    {
      "cell_type": "code",
      "source": [
        "import pprint"
      ],
      "metadata": {
        "id": "Ink56mcQVpNS"
      },
      "execution_count": null,
      "outputs": []
    },
    {
      "cell_type": "markdown",
      "source": [
        "Procure quem foi a pessoa que mais gastou?"
      ],
      "metadata": {
        "id": "apGpARF-3nW9"
      }
    },
    {
      "cell_type": "markdown",
      "source": [
        "Com dic"
      ],
      "metadata": {
        "id": "lTCfBbOjXZYx"
      }
    },
    {
      "cell_type": "code",
      "source": [
        "def encontrar_maior_gasto(dados):\n",
        "    maior_gasto = 0\n",
        "    pessoa_maior_gasto = None\n",
        "\n",
        "    for individuo, info in dados.items():\n",
        "        gasto = float(info['compra'])\n",
        "        if gasto > maior_gasto:\n",
        "            maior_gasto = gasto\n",
        "            pessoa_maior_gasto = info\n",
        "    return pessoa_maior_gasto"
      ],
      "metadata": {
        "id": "EPX_3cU33XOh"
      },
      "execution_count": null,
      "outputs": []
    },
    {
      "cell_type": "code",
      "source": [
        "retorno = encontrar_maior_gasto(dados_dicionario)"
      ],
      "metadata": {
        "id": "lEohRvDSWYlJ"
      },
      "execution_count": null,
      "outputs": []
    },
    {
      "cell_type": "markdown",
      "source": [
        "Com lista"
      ],
      "metadata": {
        "id": "-WQ9JImSXa01"
      }
    },
    {
      "cell_type": "code",
      "source": [
        "def encontrar_maior_gasto_lista(cabecalho, dados):\n",
        "    indice_compra = cabecalho.index('compra')\n",
        "    maior_gasto = 0\n",
        "    pessoa_maior_gasto = None\n",
        "\n",
        "    for linha in dados:\n",
        "        gasto = float(linha[indice_compra])\n",
        "        if gasto > maior_gasto:\n",
        "            maior_gasto = gasto\n",
        "            pessoa_maior_gasto = linha\n",
        "\n",
        "    pessoa_info = {cabecalho[i]: pessoa_maior_gasto[i] for i in range(len(cabecalho))}\n",
        "    return pessoa_info"
      ],
      "metadata": {
        "id": "zTKcFQ6CXHDC"
      },
      "execution_count": 30,
      "outputs": []
    },
    {
      "cell_type": "code",
      "source": [
        "encontrar_maior_gasto_lista(cabecalho, dados)"
      ],
      "metadata": {
        "id": "x4yRgjBfXOPF"
      },
      "execution_count": null,
      "outputs": []
    },
    {
      "cell_type": "markdown",
      "source": [
        "Busque quais são os anos da base de dados?"
      ],
      "metadata": {
        "id": "3PBqAffp3o9I"
      }
    },
    {
      "cell_type": "code",
      "source": [
        "import csv\n",
        "\n",
        "caminho_arquivo = 'caminho_arquivo'\n",
        "anos = set()\n",
        "\n",
        "with open('/content/compras.csv', mode='r', newline='') as arquivo_csv:\n",
        "    leitor_csv = csv.DictReader(arquivo_csv)\n",
        "\n",
        "    for linha in leitor_csv: # Iterando sobre cada linha do arquivo CSV\n",
        "        anos.add(linha['ano']) # Adicionando o ano ao conjunto (set) para garantir valores únicos\n",
        "\n",
        "anos = sorted(list(anos)) # Convertendo o conjunto para uma lista e ordenando\n",
        "print(\"Anos encontrados na base de dados:\", anos)"
      ],
      "metadata": {
        "id": "lqgX2B6x5fLc",
        "colab": {
          "base_uri": "https://localhost:8080/"
        },
        "outputId": "fc2ae307-c9ca-4cbf-d1fb-722d4947bf71"
      },
      "execution_count": 36,
      "outputs": [
        {
          "output_type": "stream",
          "name": "stdout",
          "text": [
            "Anos encontrados na base de dados: ['2005', '2006', '2007', '2008', '2009', '2010', '2011', '2012', '2013', '2014', '2015', '2016', '2017', '2018', '2019', '2020']\n"
          ]
        }
      ]
    },
    {
      "cell_type": "markdown",
      "source": [
        "Qual a porcentagem de homens e mulheres na base de dados?"
      ],
      "metadata": {
        "id": "R2DKj08Z5tqJ"
      }
    },
    {
      "cell_type": "code",
      "source": [
        "import csv\n",
        "\n",
        "caminho_arquivo = 'caminho_arquivo'\n",
        "\n",
        "cont_h = 0\n",
        "cont_m = 0\n",
        "\n",
        "with open('/content/compras.csv', mode='r', newline='') as arquivo_csv:\n",
        "    leitor_csv = csv.DictReader(arquivo_csv)\n",
        "\n",
        "    for linha in leitor_csv: # Iterando sobre cada linha do arquivo CSV\n",
        "        if linha['sexo'].lower() == 'm':\n",
        "            cont_h += 1\n",
        "        elif linha['sexo'].lower() == 'f':\n",
        "            cont_m += 1\n",
        "\n",
        "cont_total = cont_h + cont_m\n",
        "porcentagem_homens = (cont_h / cont_total) * 100 if cont_total > 0 else 0\n",
        "porcentagem_mulheres = (cont_m / cont_total) * 100 if cont_total > 0 else 0\n",
        "\n",
        "print(f\"Porcentagem de homens na base de dados: {porcentagem_homens:.2f}%\")\n",
        "print(f\"Porcentagem de mulheres na base de dados: {porcentagem_mulheres:.2f}%\")\n"
      ],
      "metadata": {
        "id": "3wZDjRn03xB0",
        "colab": {
          "base_uri": "https://localhost:8080/"
        },
        "outputId": "14858ec5-4c1d-4d3d-cf91-45e9a7cc370f"
      },
      "execution_count": 38,
      "outputs": [
        {
          "output_type": "stream",
          "name": "stdout",
          "text": [
            "Porcentagem de homens na base de dados: 57.16%\n",
            "Porcentagem de mulheres na base de dados: 42.84%\n"
          ]
        }
      ]
    },
    {
      "cell_type": "markdown",
      "source": [
        "Qual foi o gasto por ano?"
      ],
      "metadata": {
        "id": "Nou_jojr3ztM"
      }
    },
    {
      "cell_type": "code",
      "source": [
        "import csv\n",
        "\n",
        "caminho_arquivo = 'caminho_arquivo'\n",
        "gastos_por_ano = {}\n",
        "\n",
        "with open('/content/compras.csv', mode='r', newline='') as arquivo_csv:\n",
        "    leitor_csv = csv.DictReader(arquivo_csv)\n",
        "\n",
        "    for linha in leitor_csv:\n",
        "        ano = linha['ano']\n",
        "        pagamento = float(linha['compra'])\n",
        "\n",
        "        # Adicionando o pagamento ao ano correspondente no dicionário\n",
        "        if ano in gastos_por_ano:\n",
        "            gastos_por_ano[ano] += pagamento\n",
        "        else:\n",
        "            gastos_por_ano[ano] = pagamento\n",
        "\n",
        "# Exibindo os gastos por ano\n",
        "for ano, gasto in gastos_por_ano.items():\n",
        "    print(f\"Gasto no ano {ano}: R$ {gasto:.2f}\")\n"
      ],
      "metadata": {
        "id": "hjBuBCDb30YI"
      },
      "execution_count": null,
      "outputs": []
    },
    {
      "cell_type": "markdown",
      "source": [
        "Qual foi o ano com maior gasto?"
      ],
      "metadata": {
        "id": "vgN3teMQ32pg"
      }
    },
    {
      "cell_type": "code",
      "source": [
        "import csv\n",
        "\n",
        "caminho_arquivo = 'caminho_arquivo'\n",
        "gastos_por_ano = {}\n",
        "\n",
        "with open('/content/compras.csv', mode='r', newline='') as arquivo_csv:\n",
        "    leitor_csv = csv.DictReader(arquivo_csv)\n",
        "\n",
        "    for linha in leitor_csv:\n",
        "        ano = linha['ano']\n",
        "        pagamento = float(linha['compra'])\n",
        "\n",
        "        if ano in gastos_por_ano:\n",
        "            gastos_por_ano[ano] += pagamento\n",
        "        else:\n",
        "            gastos_por_ano[ano] = pagamento\n",
        "\n",
        "ano_com_maior_gasto = max(gastos_por_ano, key=gastos_por_ano.get)\n",
        "maior_gasto = gastos_por_ano[ano_com_maior_gasto]\n",
        "print(f\"O ano com maior gasto é {ano_com_maior_gasto} com um gasto total de R$ {maior_gasto:.2f}\")\n"
      ],
      "metadata": {
        "id": "JmN_ZHBV35ss",
        "colab": {
          "base_uri": "https://localhost:8080/"
        },
        "outputId": "fbbf9bb6-2719-45ab-e961-9b991a21fc7f"
      },
      "execution_count": 41,
      "outputs": [
        {
          "output_type": "stream",
          "name": "stdout",
          "text": [
            "O ano com maior gasto é 2016 com um gasto total de R$ 1812226.00\n"
          ]
        }
      ]
    },
    {
      "cell_type": "markdown",
      "source": [
        "Utilizando as faixas etárias, diga quantas pessoas há em cada faixa?"
      ],
      "metadata": {
        "id": "V_y9EX0p34-E"
      }
    },
    {
      "cell_type": "code",
      "source": [
        "import csv\n",
        "\n",
        "caminho_arquivo = 'caminho_arquivo'\n",
        "\n",
        "faixas_etarias = {\n",
        "    'Jovens (18-25)': 0,\n",
        "    'Adultos (26-59)': 0,\n",
        "    'Idosos (60+)': 0\n",
        "}\n",
        "\n",
        "def determinar_faixa_etaria(idade):\n",
        "    if 18 <= idade <= 25:\n",
        "        return 'Jovens (18-25)'\n",
        "    elif 26 <= idade <= 59:\n",
        "        return 'Adultos (26-59)'\n",
        "    elif idade >= 60:\n",
        "        return 'Idosos (60+)'\n",
        "    return None\n",
        "\n",
        "with open('/content/compras.csv', mode='r', newline='') as arquivo_csv:\n",
        "    leitor_csv = csv.DictReader(arquivo_csv)\n",
        "\n",
        "    for linha in leitor_csv:\n",
        "        idade = int(linha['idade'])\n",
        "        faixa_etaria = determinar_faixa_etaria(idade)\n",
        "        if faixa_etaria:\n",
        "            faixas_etarias[faixa_etaria] += 1\n",
        "\n",
        "# Exibindo as contagens por faixa etária\n",
        "for faixa, contagem in faixas_etarias.items():\n",
        "    print(f\"Faixa etária {faixa}: {contagem} pessoa(s)\")\n"
      ],
      "metadata": {
        "id": "ukkjPSE738r8",
        "colab": {
          "base_uri": "https://localhost:8080/"
        },
        "outputId": "60b3c110-0ba9-4cdc-cddd-7cfa41e9ff3c"
      },
      "execution_count": 42,
      "outputs": [
        {
          "output_type": "stream",
          "name": "stdout",
          "text": [
            "Faixa etária Jovens (18-25): 728 pessoa(s)\n",
            "Faixa etária Adultos (26-59): 3280 pessoa(s)\n",
            "Faixa etária Idosos (60+): 992 pessoa(s)\n"
          ]
        }
      ]
    },
    {
      "cell_type": "markdown",
      "source": [
        "Qual é a faixa etária que mais gasta?"
      ],
      "metadata": {
        "id": "_7qmp-1y36Ac"
      }
    },
    {
      "cell_type": "code",
      "source": [
        "import csv\n",
        "\n",
        "caminho_arquivo = 'caminho_arquivo'\n",
        "\n",
        "gastos_por_faixa_etaria = {\n",
        "    'Jovens (18-25)': 0.0,\n",
        "    'Adultos (26-59)': 0.0,\n",
        "    'Idosos (60+)': 0.0\n",
        "}\n",
        "\n",
        "def determinar_faixa_etaria(idade):\n",
        "    if 18 <= idade <= 25:\n",
        "        return 'Jovens (18-25)'\n",
        "    elif 26 <= idade <= 59:\n",
        "        return 'Adultos (26-59)'\n",
        "    elif idade >= 60:\n",
        "        return 'Idosos (60+)'\n",
        "    return None\n",
        "\n",
        "with open('/content/compras.csv', mode='r', newline='') as arquivo_csv:\n",
        "    leitor_csv = csv.DictReader(arquivo_csv)\n",
        "\n",
        "    for linha in leitor_csv:\n",
        "        idade = int(linha['idade'])\n",
        "        pagamento = float(linha['compra'])\n",
        "        faixa_etaria = determinar_faixa_etaria(idade)\n",
        "\n",
        "        if faixa_etaria:\n",
        "            gastos_por_faixa_etaria[faixa_etaria] += pagamento\n",
        "\n",
        "faixa_com_maior_gasto = max(gastos_por_faixa_etaria, key=gastos_por_faixa_etaria.get)\n",
        "maior_gasto = gastos_por_faixa_etaria[faixa_com_maior_gasto]\n",
        "\n",
        "# Exibindo a faixa etária com maior gasto\n",
        "print(f\"A faixa etária que mais gasta é {faixa_com_maior_gasto} com um gasto total de R$ {maior_gasto:.2f}\")\n"
      ],
      "metadata": {
        "id": "O0_Wt4I838V0",
        "colab": {
          "base_uri": "https://localhost:8080/"
        },
        "outputId": "5cdfaf45-119a-404e-9305-e4bfa4e53de4"
      },
      "execution_count": 44,
      "outputs": [
        {
          "output_type": "stream",
          "name": "stdout",
          "text": [
            "A faixa etária que mais gasta é Adultos (26-59) com um gasto total de R$ 17132497.00\n"
          ]
        }
      ]
    },
    {
      "cell_type": "markdown",
      "source": [
        "A opção de débito é mais utilizada entre homens ou mulheres?"
      ],
      "metadata": {
        "id": "L_EUiizw3-jM"
      }
    },
    {
      "cell_type": "code",
      "source": [
        "import csv\n",
        "from collections import defaultdict\n",
        "\n",
        "caminho_arquivo = 'caminho_arquivo'\n",
        "\n",
        "# Inicializando dicionários para armazenar as contagens de pagamentos por sexo\n",
        "pagamentos_por_homem = defaultdict(int)\n",
        "pagamentos_por_mulher = defaultdict(int)\n",
        "\n",
        "with open('/content/compras.csv', mode='r', newline='') as arquivo_csv:\n",
        "    leitor_csv = csv.DictReader(arquivo_csv)\n",
        "\n",
        "    # Iterando sobre cada linha do arquivo CSV\n",
        "    for linha in leitor_csv:\n",
        "        sexo = linha['sexo'].lower()\n",
        "        pagamento = linha['pagamento'].lower()\n",
        "\n",
        "        # Incrementando a contagem de pagamentos por sexo\n",
        "        if sexo == 'm':\n",
        "            pagamentos_por_homem[pagamento] += 1\n",
        "        elif sexo == 'f':\n",
        "            pagamentos_por_mulher[pagamento] += 1\n",
        "\n",
        "# Determinando a opção de pagamento mais utilizada entre homens e mulheres\n",
        "pagamento_mais_utilizado_homens = max(pagamentos_por_homem, key=pagamentos_por_homem.get)\n",
        "pagamento_mais_utilizado_mulheres = max(pagamentos_por_mulher, key=pagamentos_por_mulher.get)\n",
        "\n",
        "# Exibindo os resultados\n",
        "print(f\"Entre os homens, a opção de pagamento mais utilizada é: {pagamento_mais_utilizado_homens} com {pagamentos_por_homem[pagamento_mais_utilizado_homens]} utilizações.\")\n",
        "print(f\"Entre as mulheres, a opção de pagamento mais utilizada é: {pagamento_mais_utilizado_mulheres} com {pagamentos_por_mulher[pagamento_mais_utilizado_mulheres]} utilizações.\")\n"
      ],
      "metadata": {
        "id": "dIKB7PXj3_DE",
        "colab": {
          "base_uri": "https://localhost:8080/"
        },
        "outputId": "402e1141-8fab-4267-c507-9b391222a25c"
      },
      "execution_count": 46,
      "outputs": [
        {
          "output_type": "stream",
          "name": "stdout",
          "text": [
            "Entre os homens, a opção de pagamento mais utilizada é: dinheiro com 957 utilizações.\n",
            "Entre as mulheres, a opção de pagamento mais utilizada é: debito com 731 utilizações.\n"
          ]
        }
      ]
    },
    {
      "cell_type": "markdown",
      "source": [
        "Qual o sobrenome que mais aparece na base de dados?"
      ],
      "metadata": {
        "id": "jOMpl3Th4Bkm"
      }
    },
    {
      "cell_type": "code",
      "source": [
        "import csv\n",
        "from collections import defaultdict\n",
        "\n",
        "caminho_arquivo = 'caminho_arquivo'\n",
        "\n",
        "# Inicializando um dicionário para armazenar a contagem de sobrenomes\n",
        "contagem_sobrenomes = defaultdict(int)\n",
        "\n",
        "# Abrindo o arquivo CSV e lendo os dados\n",
        "with open('/content/compras.csv', mode='r', newline='') as arquivo_csv:\n",
        "    leitor_csv = csv.DictReader(arquivo_csv)\n",
        "\n",
        "    for linha in leitor_csv:\n",
        "        sobrenome = linha['sobrenome']\n",
        "        contagem_sobrenomes[sobrenome] += 1\n",
        "\n",
        "\n",
        "sobrenome_mais_frequente = max(contagem_sobrenomes, key=contagem_sobrenomes.get)\n",
        "frequencia_mais_frequente = contagem_sobrenomes[sobrenome_mais_frequente]\n",
        "print(f\"O sobrenome que mais aparece é '{sobrenome_mais_frequente}' com {frequencia_mais_frequente} ocorrências.\")\n"
      ],
      "metadata": {
        "id": "LDFe_62s4B_Q",
        "colab": {
          "base_uri": "https://localhost:8080/"
        },
        "outputId": "72169cf4-0fbc-4321-c9f0-e60e35d5c08b"
      },
      "execution_count": 47,
      "outputs": [
        {
          "output_type": "stream",
          "name": "stdout",
          "text": [
            "O sobrenome que mais aparece é 'Alves' com 768 ocorrências.\n"
          ]
        }
      ]
    },
    {
      "cell_type": "markdown",
      "source": [
        "Qual foi o ano em que os homens mais usaram o crédito?"
      ],
      "metadata": {
        "id": "Q7VS9K_Q4ECM"
      }
    },
    {
      "cell_type": "code",
      "source": [
        "import csv\n",
        "from collections import defaultdict\n",
        "\n",
        "caminho_arquivo = 'caminho_arquivo'\n",
        "\n",
        "# Inicializando um dicionário para armazenar os gastos com crédito por ano\n",
        "gastos_credito_por_ano = defaultdict(float)\n",
        "\n",
        "with open('/content/compras.csv', mode='r', newline='') as arquivo_csv:\n",
        "    leitor_csv = csv.DictReader(arquivo_csv)\n",
        "\n",
        "    for linha in leitor_csv:\n",
        "        ano = linha['ano']\n",
        "        sexo = linha['sexo'].lower()\n",
        "        pagamento = linha['pagamento'].lower()\n",
        "        if pagamento == 'credito' and sexo == 'm':\n",
        "            gastos_credito_por_ano[ano] += 1\n",
        "\n",
        "# Encontrando o ano em que os homens mais usaram crédito\n",
        "ano_mais_utilizado = max(gastos_credito_por_ano, key=gastos_credito_por_ano.get)\n",
        "quantidade = gastos_credito_por_ano[ano_mais_utilizado]\n",
        "print(f\"Em {ano_mais_utilizado}, os homens utilizaram crédito {quantidade} vezes.\")\n"
      ],
      "metadata": {
        "id": "5H60b3n64Ee0",
        "colab": {
          "base_uri": "https://localhost:8080/"
        },
        "outputId": "5209833b-d542-4f09-e1c6-7d79e56ac9bc"
      },
      "execution_count": 49,
      "outputs": [
        {
          "output_type": "stream",
          "name": "stdout",
          "text": [
            "Em 2018, os homens utilizaram crédito 71.0 vezes.\n"
          ]
        }
      ]
    },
    {
      "cell_type": "markdown",
      "source": [
        "Qual opção de pagamento é mais utilizada em cada faixa etária?"
      ],
      "metadata": {
        "id": "ebnmp5KD4GPw"
      }
    },
    {
      "cell_type": "code",
      "source": [
        "import csv\n",
        "from collections import defaultdict\n",
        "\n",
        "caminho_arquivo = 'caminho_arquivo'\n",
        "\n",
        "pagamento_por_faixa_etaria = {\n",
        "    'Jovens (18-25)': defaultdict(int),\n",
        "    'Adultos (26-59)': defaultdict(int),\n",
        "    'Idosos (60+)': defaultdict(int)\n",
        "}\n",
        "\n",
        "def determinar_faixa_etaria(idade):\n",
        "    if idade >= 18 and idade <= 25:\n",
        "        return 'Jovens (18-25)'\n",
        "    elif idade >= 26 and idade <= 59:\n",
        "        return 'Adultos (26-59)'\n",
        "    else:\n",
        "        return 'Idosos (60+)'\n",
        "\n",
        "with open('/content/compras.csv', mode='r', newline='') as arquivo_csv:\n",
        "    leitor_csv = csv.DictReader(arquivo_csv)\n",
        "\n",
        "    for linha in leitor_csv:\n",
        "        idade = int(linha['idade'])\n",
        "        faixa_etaria = determinar_faixa_etaria(idade)\n",
        "        pagamento = linha['pagamento'].lower()\n",
        "        pagamento_por_faixa_etaria[faixa_etaria][pagamento] += 1\n",
        "\n",
        "for faixa_etaria, contagens_pagamento in pagamento_por_faixa_etaria.items():\n",
        "    opcao_mais_utilizada = max(contagens_pagamento, key=contagens_pagamento.get)\n",
        "    quantidade = contagens_pagamento[opcao_mais_utilizada]\n",
        "    print(f\"Na faixa etária {faixa_etaria}, a opção de pagamento mais utilizada é '{opcao_mais_utilizada}' com {quantidade} utilização(ões).\")\n"
      ],
      "metadata": {
        "id": "NumXkC5p4H7s",
        "colab": {
          "base_uri": "https://localhost:8080/"
        },
        "outputId": "51781479-bd29-4b20-b342-fd7708e095b7"
      },
      "execution_count": 50,
      "outputs": [
        {
          "output_type": "stream",
          "name": "stdout",
          "text": [
            "Na faixa etária Jovens (18-25), a opção de pagamento mais utilizada é 'dinheiro' com 254 utilização(ões).\n",
            "Na faixa etária Adultos (26-59), a opção de pagamento mais utilizada é 'debito' com 1101 utilização(ões).\n",
            "Na faixa etária Idosos (60+), a opção de pagamento mais utilizada é 'debito' com 341 utilização(ões).\n"
          ]
        }
      ]
    },
    {
      "cell_type": "markdown",
      "source": [
        "Qual o valor gasto em compras por jovens do ano de 2010 até 2015?"
      ],
      "metadata": {
        "id": "jRKhI6Dv4IQJ"
      }
    },
    {
      "cell_type": "code",
      "source": [
        "import csv\n",
        "\n",
        "caminho_arquivo = 'caminho_arquivo'\n",
        "\n",
        "total_gasto_jovens = 0.0\n",
        "\n",
        "with open('/content/compras.csv', mode='r', newline='') as arquivo_csv:\n",
        "    leitor_csv = csv.DictReader(arquivo_csv)\n",
        "\n",
        "    for linha in leitor_csv:\n",
        "        ano = int(linha['ano'])\n",
        "        idade = int(linha['idade'])\n",
        "        pagamento = float(linha['compra'])\n",
        "        if 2010 <= ano <= 2015 and 18 <= idade <= 25:\n",
        "            total_gasto_jovens += pagamento\n",
        "\n",
        "print(f\"O valor total gasto em compras por jovens nos anos de 2010 a 2015 é: R$ {total_gasto_jovens:.2f}\")\n"
      ],
      "metadata": {
        "id": "6SXstcF54Itk",
        "colab": {
          "base_uri": "https://localhost:8080/"
        },
        "outputId": "7e7a67a2-b9de-4451-f5de-5543161b65d6"
      },
      "execution_count": 52,
      "outputs": [
        {
          "output_type": "stream",
          "name": "stdout",
          "text": [
            "O valor total gasto em compras por jovens nos anos de 2010 a 2015 é: R$ 1265539.00\n"
          ]
        }
      ]
    },
    {
      "cell_type": "code",
      "source": [
        "import csv"
      ],
      "metadata": {
        "id": "s5MH-Whzb9Hg"
      },
      "execution_count": 4,
      "outputs": []
    },
    {
      "cell_type": "code",
      "source": [
        "with open('/content/compras.csv', 'r') as arquivo:\n",
        "  leitor_csv = csv.reader(arquivo)\n",
        "  for linha in leitor_csv:\n",
        "    print(linha)"
      ],
      "metadata": {
        "id": "DqhIcH2hbVUZ"
      },
      "execution_count": null,
      "outputs": []
    },
    {
      "cell_type": "code",
      "source": [
        "import csv\n",
        "\n",
        "#adiciona linha no arquivo existente sem apagar dados existente\n",
        "with open('/content/compras.csv', 'a') as arquivo:\n",
        "  arquivo.write('GD, Growdev')"
      ],
      "metadata": {
        "id": "B4wCh_qmdOQk"
      },
      "execution_count": null,
      "outputs": []
    },
    {
      "cell_type": "code",
      "source": [
        "import csv\n",
        "\n",
        "#apaga os dados da planilha e escreve somente esta nova linha\n",
        "with open('/content/compras.csv', 'w') as arquivo:\n",
        "  arquivo.write('GD, Growdev')"
      ],
      "metadata": {
        "id": "iny3yc2ehAhT"
      },
      "execution_count": null,
      "outputs": []
    },
    {
      "cell_type": "code",
      "source": [
        "with open('/content/compras.csv', 'r') as arquivo:\n",
        "  leitor_csv = csv.reader(arquivo)\n",
        "  for linha in leitor_csv:\n",
        "    print(linha)"
      ],
      "metadata": {
        "id": "bxPr8gSQhmi0"
      },
      "execution_count": null,
      "outputs": []
    },
    {
      "cell_type": "code",
      "source": [],
      "metadata": {
        "id": "yuK_EhCwx63S"
      },
      "execution_count": null,
      "outputs": []
    },
    {
      "cell_type": "code",
      "source": [
        "import os"
      ],
      "metadata": {
        "id": "moGoupdIyUQa"
      },
      "execution_count": 6,
      "outputs": []
    },
    {
      "cell_type": "code",
      "source": [
        "#exemplo: obter a pasta atual que o jupyter notebook está rodando\n",
        "os.getcwd()"
      ],
      "metadata": {
        "id": "C-9af12ByXI6"
      },
      "execution_count": null,
      "outputs": []
    }
  ]
}