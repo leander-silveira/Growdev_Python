{
 "cells": [
  {
   "cell_type": "code",
   "execution_count": 2,
   "metadata": {},
   "outputs": [
    {
     "name": "stdout",
     "output_type": "stream",
     "text": [
      "Requirement already satisfied: psycopg2-binary in c:\\users\\growdev\\appdata\\local\\programs\\python\\python312\\lib\\site-packages (2.9.9)\n",
      "Note: you may need to restart the kernel to use updated packages.\n"
     ]
    },
    {
     "name": "stderr",
     "output_type": "stream",
     "text": [
      "\n",
      "[notice] A new release of pip is available: 24.0 -> 24.2\n",
      "[notice] To update, run: python.exe -m pip install --upgrade pip\n"
     ]
    }
   ],
   "source": [
    "pip install psycopg2-binary"
   ]
  },
  {
   "cell_type": "code",
   "execution_count": 1,
   "metadata": {},
   "outputs": [
    {
     "name": "stdout",
     "output_type": "stream",
     "text": [
      "Collecting faker\n",
      "  Downloading Faker-26.1.0-py3-none-any.whl.metadata (15 kB)\n",
      "Requirement already satisfied: python-dateutil>=2.4 in c:\\users\\growdev\\appdata\\roaming\\python\\python312\\site-packages (from faker) (2.9.0.post0)\n",
      "Requirement already satisfied: six>=1.5 in c:\\users\\growdev\\appdata\\roaming\\python\\python312\\site-packages (from python-dateutil>=2.4->faker) (1.16.0)\n",
      "Downloading Faker-26.1.0-py3-none-any.whl (1.8 MB)\n",
      "   ---------------------------------------- 0.0/1.8 MB ? eta -:--:--\n",
      "   ---------------------------------------- 0.0/1.8 MB ? eta -:--:--\n",
      "    --------------------------------------- 0.0/1.8 MB 435.7 kB/s eta 0:00:05\n",
      "   - -------------------------------------- 0.1/1.8 MB 544.7 kB/s eta 0:00:04\n",
      "   ----- ---------------------------------- 0.3/1.8 MB 1.8 MB/s eta 0:00:01\n",
      "   ------------- -------------------------- 0.6/1.8 MB 3.0 MB/s eta 0:00:01\n",
      "   -------------------------- ------------- 1.2/1.8 MB 4.8 MB/s eta 0:00:01\n",
      "   ---------------------------------------- 1.8/1.8 MB 5.7 MB/s eta 0:00:00\n",
      "Installing collected packages: faker\n",
      "Successfully installed faker-26.1.0\n",
      "Note: you may need to restart the kernel to use updated packages.\n"
     ]
    },
    {
     "name": "stderr",
     "output_type": "stream",
     "text": [
      "\n",
      "[notice] A new release of pip is available: 24.0 -> 24.2\n",
      "[notice] To update, run: python.exe -m pip install --upgrade pip\n"
     ]
    }
   ],
   "source": [
    "pip install faker"
   ]
  },
  {
   "cell_type": "markdown",
   "metadata": {},
   "source": [
    "CLIENTES"
   ]
  },
  {
   "cell_type": "code",
   "execution_count": 3,
   "metadata": {},
   "outputs": [
    {
     "name": "stdout",
     "output_type": "stream",
     "text": [
      "Conectado ao banco de dados PostgreSQL\n",
      "10.000 clientes inseridos com sucesso\n",
      "Conexão ao banco de dados fechada\n"
     ]
    }
   ],
   "source": [
    "import psycopg2\n",
    "from psycopg2 import sql\n",
    "from faker import Faker\n",
    "import random\n",
    "\n",
    "# Inicializa o gerador de dados fictícios\n",
    "fake = Faker()\n",
    "\n",
    "# Função para gerar um número de telefone no formato '1111-1111'\n",
    "def generate_phone_number():\n",
    "    return f\"{random.randint(1000, 9999)}-{random.randint(1000, 9999)}\"\n",
    "\n",
    "\n",
    "try:\n",
    "    # Conectar ao banco de dados PostgreSQL\n",
    "    conn = psycopg2.connect(\n",
    "        host=\"localhost\",\n",
    "        database=\"postgres\",\n",
    "        user=\"postgres\",\n",
    "        password=\"growdev\"\n",
    "    )\n",
    "    print(\"Conectado ao banco de dados PostgreSQL\")\n",
    "\n",
    "    # Crie um cursor para executar comandos\n",
    "    cur = conn.cursor()\n",
    "\n",
    "    # Comando SQL para inserir dados\n",
    "    insert_query = sql.SQL(\"\"\"\n",
    "    INSERT INTO Clientes (Nome, Endereco, Telefone, Email, Data_Nascimento)\n",
    "    VALUES (%s, %s, %s, %s, %s)\n",
    "    \"\"\")\n",
    "\n",
    "    # Loop para gerar e inserir 10.000 clientes\n",
    "    for _ in range(10000):\n",
    "        nome = fake.name()\n",
    "        endereco = fake.address().replace('\\n', ', ')\n",
    "        telefone = generate_phone_number()\n",
    "        email = fake.email()\n",
    "        data_nascimento = fake.date_of_birth(minimum_age=18, maximum_age=80).strftime('%Y-%m-%d')\n",
    "        \n",
    "        cur.execute(insert_query, (nome, endereco, telefone, email, data_nascimento))\n",
    "\n",
    "    # Confirmar a transação\n",
    "    conn.commit()\n",
    "    print(\"10.000 clientes inseridos com sucesso\")\n",
    "\n",
    "except Exception as error:\n",
    "    print(f\"Erro ao conectar ao banco de dados: {error}\")\n",
    "\n",
    "finally:\n",
    "    # Fechar o cursor e a conexão\n",
    "    if cur:\n",
    "        cur.close()\n",
    "    if conn:\n",
    "        conn.close()\n",
    "    print(\"Conexão ao banco de dados fechada\")"
   ]
  },
  {
   "cell_type": "markdown",
   "metadata": {},
   "source": [
    "PRODUTOS"
   ]
  },
  {
   "cell_type": "code",
   "execution_count": 5,
   "metadata": {},
   "outputs": [
    {
     "name": "stdout",
     "output_type": "stream",
     "text": [
      "Conectado ao banco de dados PostgreSQL\n",
      "10.000 produtos inseridos com sucesso\n",
      "Conexão ao banco de dados fechada\n"
     ]
    }
   ],
   "source": [
    "import psycopg2\n",
    "from psycopg2 import sql\n",
    "import random\n",
    "import string\n",
    "\n",
    "# Função para gerar um nome randômico\n",
    "def generate_name(length=10):\n",
    "    return ''.join(random.choices(string.ascii_letters + string.digits, k=length))\n",
    "\n",
    "# Função para gerar uma descrição randômica\n",
    "def generate_description(length=20):\n",
    "    return ''.join(random.choices(string.ascii_letters + string.digits + ' ', k=length))\n",
    "\n",
    "# Função para gerar uma categoria randômica\n",
    "def generate_category():\n",
    "    categories = ['Eletrônicos', 'Roupas', 'Alimentos', 'Móveis', 'Livros']\n",
    "    return random.choice(categories)\n",
    "\n",
    "\n",
    "try:\n",
    "    # Conectar ao banco de dados PostgreSQL\n",
    "    conn = psycopg2.connect(\n",
    "        host=\"localhost\",\n",
    "        database=\"postgres\",\n",
    "        user=\"postgres\",\n",
    "        password=\"growdev\"\n",
    "    )\n",
    "    print(\"Conectado ao banco de dados PostgreSQL\")\n",
    "\n",
    "    # Crie um cursor para executar comandos\n",
    "    cur = conn.cursor()\n",
    "\n",
    "    # Comando SQL para inserir dados\n",
    "    insert_query = sql.SQL(\"\"\"\n",
    "    INSERT INTO Produtos (Nome, Descricao, Preco, Estoque, Categoria)\n",
    "    VALUES (%s, %s, %s, %s, %s)\n",
    "    \"\"\")\n",
    "\n",
    "    # Loop para gerar e inserir 10.000 produtos\n",
    "    for _ in range(10000):\n",
    "        nome = generate_name()\n",
    "        descricao = generate_description()\n",
    "        preco = round(random.uniform(1.0, 1000.0), 2)  # Preço randômico entre 1.0 e 1000.0\n",
    "        estoque = random.randint(0, 1000)  # Estoque randômico entre 0 e 1000\n",
    "        categoria = generate_category()\n",
    "\n",
    "        cur.execute(insert_query, (nome, descricao, preco, estoque, categoria))\n",
    "\n",
    "    # Confirmar a transação\n",
    "    conn.commit()\n",
    "    print(\"10.000 produtos inseridos com sucesso\")\n",
    "\n",
    "except Exception as error:\n",
    "    print(f\"Erro ao conectar ao banco de dados: {error}\")\n",
    "\n",
    "finally:\n",
    "    # Fechar o cursor e a conexão\n",
    "    if cur:\n",
    "        cur.close()\n",
    "    if conn:\n",
    "        conn.close()\n",
    "    print(\"Conexão ao banco de dados fechada\")"
   ]
  },
  {
   "cell_type": "markdown",
   "metadata": {},
   "source": [
    "ITENS PEDIDOS"
   ]
  },
  {
   "cell_type": "code",
   "execution_count": 7,
   "metadata": {},
   "outputs": [
    {
     "name": "stdout",
     "output_type": "stream",
     "text": [
      "Conectado ao banco de dados PostgreSQL\n",
      "10.000 itens de pedido inseridos com sucesso\n",
      "Conexão ao banco de dados fechada\n"
     ]
    }
   ],
   "source": [
    "import psycopg2\n",
    "from psycopg2 import sql\n",
    "from faker import Faker\n",
    "import random\n",
    "\n",
    "# Função para gerar uma quantidade randômica\n",
    "def generate_quantity():\n",
    "    return random.randint(1, 10)  # Quantidade entre 1 e 10\n",
    "\n",
    "# Função para gerar um preço unitário randômico\n",
    "def generate_unit_price():\n",
    "    return round(random.uniform(1.0, 500.0), 2)  # Preço entre 1.0 e 500.0 reais\n",
    "\n",
    "# Função para gerar um subtotal baseado na quantidade e preço unitário\n",
    "def calculate_subtotal(quantity, unit_price):\n",
    "    return round(quantity * unit_price, 2)\n",
    "\n",
    "try:\n",
    "    # Conectar ao banco de dados PostgreSQL\n",
    "    conn = psycopg2.connect(\n",
    "        host=\"localhost\",\n",
    "        database=\"postgres\",\n",
    "        user=\"postgres\",\n",
    "        password=\"growdev\"\n",
    "    )\n",
    "    print(\"Conectado ao banco de dados PostgreSQL\")\n",
    "\n",
    "# Crie um cursor para executar comandos\n",
    "    cur = conn.cursor()\n",
    "\n",
    "    # Comando SQL para inserir dados\n",
    "    insert_query = sql.SQL(\"\"\"\n",
    "    INSERT INTO Itens_Pedido (Quantidade, Preco_Unitario, Subtotal, ID_Pedido, ID_Produto)\n",
    "    VALUES (%s, %s, %s, %s, %s)\n",
    "    \"\"\")\n",
    "\n",
    "    # Assumindo que ID_Pedido e ID_Produto são valores válidos para inserir\n",
    "    for _ in range(10000):\n",
    "        quantidade = generate_quantity()\n",
    "        preco_unitario = generate_unit_price()\n",
    "        subtotal = calculate_subtotal(quantidade, preco_unitario)\n",
    "        id_pedido = random.randint(1, 1000)  # Assumindo que há 1000 pedidos\n",
    "        id_produto = random.randint(1, 1000)  # Assumindo que há 1000 produtos\n",
    "\n",
    "        cur.execute(insert_query, (quantidade, preco_unitario, subtotal, id_pedido, id_produto))\n",
    "\n",
    "    # Confirmar a transação\n",
    "    conn.commit()\n",
    "    print(\"10.000 itens de pedido inseridos com sucesso\")\n",
    "\n",
    "except Exception as error:\n",
    "    print(f\"Erro ao conectar ao banco de dados: {error}\")\n",
    "\n",
    "finally:\n",
    "    # Fechar o cursor e a conexão\n",
    "    if cur:\n",
    "        cur.close()\n",
    "    if conn:\n",
    "        conn.close()\n",
    "    print(\"Conexão ao banco de dados fechada\")\n"
   ]
  },
  {
   "cell_type": "markdown",
   "metadata": {},
   "source": [
    "PAGAMENTOS"
   ]
  },
  {
   "cell_type": "code",
   "execution_count": 8,
   "metadata": {},
   "outputs": [
    {
     "name": "stdout",
     "output_type": "stream",
     "text": [
      "Conectado ao banco de dados PostgreSQL\n",
      "10.000 pagamentos inseridos com sucesso\n",
      "Conexão ao banco de dados fechada\n"
     ]
    }
   ],
   "source": [
    "import psycopg2\n",
    "from psycopg2 import sql\n",
    "import random\n",
    "from datetime import datetime, timedelta\n",
    "\n",
    "# Função para gerar uma data randômica dentro de um intervalo\n",
    "def random_date(start_date, end_date):\n",
    "    delta = end_date - start_date\n",
    "    random_day = random.randrange(delta.days)\n",
    "    return start_date + timedelta(days=random_day)\n",
    "\n",
    "# Função para gerar um valor pago randômico\n",
    "def generate_paid_amount():\n",
    "    return round(random.uniform(1.0, 1000.0), 2)  # Valor pago randômico entre 1.0 e 1000.0 reais\n",
    "\n",
    "# Função para gerar um método de pagamento randômico\n",
    "def generate_payment_method():\n",
    "    methods = ['à vista', 'cartão de crédito', 'boleto', 'transferência']\n",
    "    return random.choice(methods)\n",
    "\n",
    "try:\n",
    "    # Conectar ao banco de dados PostgreSQL\n",
    "    conn = psycopg2.connect(\n",
    "        host=\"localhost\",\n",
    "        database=\"postgres\",\n",
    "        user=\"postgres\",\n",
    "        password=\"growdev\"\n",
    "    )\n",
    "    print(\"Conectado ao banco de dados PostgreSQL\")\n",
    "\n",
    "# Crie um cursor para executar comandos\n",
    "    cur = conn.cursor()\n",
    "\n",
    "    # Comando SQL para inserir dados\n",
    "    insert_query = sql.SQL(\"\"\"\n",
    "    INSERT INTO Pagamentos (Data_Pagamento, Valor_Pago, Metodo_Pagamento, ID_Pedido)\n",
    "    VALUES (%s, %s, %s, %s)\n",
    "    \"\"\")\n",
    "\n",
    "    # Define o intervalo para datas randômicas\n",
    "    start_date = datetime(2023, 1, 1)\n",
    "    end_date = datetime(2024, 1, 1)\n",
    "\n",
    "    # Loop para gerar e inserir 10.000 pagamentos\n",
    "    for _ in range(10000):\n",
    "        data_pagamento = random_date(start_date, end_date).strftime('%Y-%m-%d')\n",
    "        valor_pago = generate_paid_amount()\n",
    "        metodo_pagamento = generate_payment_method()\n",
    "        id_pedido = random.randint(1, 1000)  # Assumindo que há até 1000 pedidos\n",
    "\n",
    "        cur.execute(insert_query, (data_pagamento, valor_pago, metodo_pagamento, id_pedido))\n",
    "\n",
    "    # Confirmar a transação\n",
    "    conn.commit()\n",
    "    print(\"10.000 pagamentos inseridos com sucesso\")\n",
    "\n",
    "except Exception as error:\n",
    "    print(f\"Erro ao conectar ao banco de dados: {error}\")\n",
    "\n",
    "finally:\n",
    "    # Fechar o cursor e a conexão\n",
    "    if cur:\n",
    "        cur.close()\n",
    "    if conn:\n",
    "        conn.close()\n",
    "    print(\"Conexão ao banco de dados fechada\")"
   ]
  },
  {
   "cell_type": "code",
   "execution_count": null,
   "metadata": {},
   "outputs": [],
   "source": []
  },
  {
   "cell_type": "code",
   "execution_count": null,
   "metadata": {},
   "outputs": [],
   "source": []
  },
  {
   "cell_type": "code",
   "execution_count": null,
   "metadata": {},
   "outputs": [],
   "source": []
  },
  {
   "cell_type": "code",
   "execution_count": null,
   "metadata": {},
   "outputs": [],
   "source": []
  },
  {
   "cell_type": "code",
   "execution_count": null,
   "metadata": {},
   "outputs": [],
   "source": []
  },
  {
   "cell_type": "code",
   "execution_count": null,
   "metadata": {},
   "outputs": [],
   "source": []
  },
  {
   "cell_type": "code",
   "execution_count": null,
   "metadata": {},
   "outputs": [],
   "source": []
  },
  {
   "cell_type": "code",
   "execution_count": null,
   "metadata": {},
   "outputs": [],
   "source": []
  },
  {
   "cell_type": "code",
   "execution_count": null,
   "metadata": {},
   "outputs": [],
   "source": []
  },
  {
   "cell_type": "code",
   "execution_count": null,
   "metadata": {},
   "outputs": [],
   "source": []
  },
  {
   "cell_type": "code",
   "execution_count": null,
   "metadata": {},
   "outputs": [],
   "source": []
  },
  {
   "cell_type": "code",
   "execution_count": null,
   "metadata": {},
   "outputs": [],
   "source": []
  },
  {
   "cell_type": "code",
   "execution_count": null,
   "metadata": {},
   "outputs": [],
   "source": []
  },
  {
   "cell_type": "code",
   "execution_count": null,
   "metadata": {},
   "outputs": [],
   "source": []
  },
  {
   "cell_type": "code",
   "execution_count": null,
   "metadata": {},
   "outputs": [],
   "source": []
  }
 ],
 "metadata": {
  "kernelspec": {
   "display_name": "Python 3",
   "language": "python",
   "name": "python3"
  },
  "language_info": {
   "codemirror_mode": {
    "name": "ipython",
    "version": 3
   },
   "file_extension": ".py",
   "mimetype": "text/x-python",
   "name": "python",
   "nbconvert_exporter": "python",
   "pygments_lexer": "ipython3",
   "version": "3.12.3"
  }
 },
 "nbformat": 4,
 "nbformat_minor": 2
}
