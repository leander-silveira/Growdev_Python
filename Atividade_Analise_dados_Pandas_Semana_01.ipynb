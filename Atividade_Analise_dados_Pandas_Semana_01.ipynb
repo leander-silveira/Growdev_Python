{
  "nbformat": 4,
  "nbformat_minor": 0,
  "metadata": {
    "colab": {
      "provenance": []
    },
    "kernelspec": {
      "name": "python3",
      "display_name": "Python 3"
    },
    "language_info": {
      "name": "python"
    }
  },
  "cells": [
    {
      "cell_type": "markdown",
      "source": [
        "![Growdev](https://www.growdev.com.br/assets/images/logo_growdev.png)"
      ],
      "metadata": {
        "id": "v8pFWwviib2C"
      }
    },
    {
      "cell_type": "markdown",
      "source": [
        "![Formação Engenharia de Dados](https://d335luupugsy2.cloudfront.net/cms/files/524558/1707226566/$occu5m8t1op)"
      ],
      "metadata": {
        "id": "6Tkl4_HxifXZ"
      }
    },
    {
      "cell_type": "markdown",
      "source": [
        "Este material tem como objetivo incentivar a prática dos conteúdos estudados até o momento, e a pesquisa. Tenha em consideração que o exercício foi pensado para incentivar a prática dos conteúdos estudados até então, porém aprender a pesquisar faz parte do processo de aprendizagem.\n",
        "\n",
        "Fique tranquilo, faça os exercícios com calma, e boa prática!\n"
      ],
      "metadata": {
        "id": "ty7Bzyl1i9bN"
      }
    },
    {
      "cell_type": "markdown",
      "source": [
        "#Orientações:\n",
        "\n",
        " - Faça uma copia deste arquivo\n",
        " - Após concluir os exercicios, suba seu exercicio para o GitHub e compartilhe o link no **google** Classroom\n"
      ],
      "metadata": {
        "id": "DU5-yCQwjx3V"
      }
    },
    {
      "cell_type": "markdown",
      "source": [
        "\n",
        "Utilize o dataset contido nesse [link](https://www.kaggle.com/datasets/upadorprofzs/testes), e responda as questões abaixo.\n",
        "\n",
        "O dataset contém dados estatísticos do IBGE relativos à escolaridade, renda entre outros campos avaliados pela  PNAD (Pesquisa Nacional por Amostra de Domicílios).\n",
        "\n",
        "Os dados podem representar informações relevantes e reveladoras sobre a distribuição de renda e possivelmente alguns indicadores sobre tais situações encontradas a partir dos dados."
      ],
      "metadata": {
        "id": "jPJ5hyxa2cos"
      }
    },
    {
      "cell_type": "markdown",
      "source": [
        "#Exercícios"
      ],
      "metadata": {
        "id": "EzT810tnlmfE"
      }
    },
    {
      "cell_type": "markdown",
      "source": [
        "Qual a quantidade de pessoas nas seguintes faixas etárias\n",
        "- 20 anos ou menos\n",
        "- 21 a 35 anos\n",
        "- 36 a 50 anos\n",
        "- 51 a 65 anos\n",
        "- maiores de 65 anos\n",
        "\n"
      ],
      "metadata": {
        "id": "sYEv1vohLu34"
      }
    },
    {
      "cell_type": "code",
      "source": [
        "!pip install pandas\n",
        "\n"
      ],
      "metadata": {
        "id": "0drCl45SMELV",
        "colab": {
          "base_uri": "https://localhost:8080/"
        },
        "outputId": "3a7849cc-71de-4594-fe25-83657844ad8d"
      },
      "execution_count": 2,
      "outputs": [
        {
          "output_type": "stream",
          "name": "stdout",
          "text": [
            "Requirement already satisfied: pandas in /usr/local/lib/python3.10/dist-packages (2.0.3)\n",
            "Requirement already satisfied: python-dateutil>=2.8.2 in /usr/local/lib/python3.10/dist-packages (from pandas) (2.8.2)\n",
            "Requirement already satisfied: pytz>=2020.1 in /usr/local/lib/python3.10/dist-packages (from pandas) (2023.4)\n",
            "Requirement already satisfied: tzdata>=2022.1 in /usr/local/lib/python3.10/dist-packages (from pandas) (2024.1)\n",
            "Requirement already satisfied: numpy>=1.21.0 in /usr/local/lib/python3.10/dist-packages (from pandas) (1.25.2)\n",
            "Requirement already satisfied: six>=1.5 in /usr/local/lib/python3.10/dist-packages (from python-dateutil>=2.8.2->pandas) (1.16.0)\n"
          ]
        }
      ]
    },
    {
      "cell_type": "code",
      "source": [
        "import pandas as pd\n",
        "\n",
        "def calcular_faixas_etarias(dados):\n",
        "    faixas_etarias = {\n",
        "        '20 anos ou menos': (0, 20),\n",
        "        '21 a 35 anos': (21, 35),\n",
        "        '36 a 50 anos': (36, 50),\n",
        "        '51 a 65 anos': (51, 65),\n",
        "        'maiores de 65 anos': (66, float('inf'))\n",
        "    }\n",
        "\n",
        "    # Inicializa contadores para cada faixa etária\n",
        "    contagem_faixas = {faixa: 0 for faixa in faixas_etarias}\n",
        "\n",
        "    # Itera sobre cada linha do DataFrame\n",
        "    for index, pessoa in dados.iterrows():\n",
        "        idade = pessoa['Idade']\n",
        "\n",
        "        # Verifica em qual faixa etária a pessoa se encaixa\n",
        "        for faixa, (limite_inferior, limite_superior) in faixas_etarias.items():\n",
        "            if limite_inferior <= idade <= limite_superior:\n",
        "                contagem_faixas[faixa] += 1\n",
        "                break  # Uma pessoa só pode pertencer a uma faixa etária\n",
        "\n",
        "    # Imprime os resultados\n",
        "    for faixa, quantidade in contagem_faixas.items():\n",
        "        print(f\"{faixa}: {quantidade} pessoas\")\n",
        "\n",
        "\n",
        "arquivo_csv = 'dados.csv'\n",
        "dados = pd.read_csv(arquivo_csv)\n",
        "calcular_faixas_etarias(dados)"
      ],
      "metadata": {
        "colab": {
          "base_uri": "https://localhost:8080/"
        },
        "id": "_c6KTfdvtBxm",
        "outputId": "84c40af8-611d-48e8-a907-0bea93be9aca"
      },
      "execution_count": 5,
      "outputs": [
        {
          "output_type": "stream",
          "name": "stdout",
          "text": [
            "20 anos ou menos: 764 pessoas\n",
            "21 a 35 anos: 20654 pessoas\n",
            "36 a 50 anos: 31770 pessoas\n",
            "51 a 65 anos: 20006 pessoas\n",
            "maiores de 65 anos: 3646 pessoas\n"
          ]
        }
      ]
    },
    {
      "cell_type": "markdown",
      "source": [
        "Qual é a média de escolaridade em cada faixa etária?\n"
      ],
      "metadata": {
        "id": "6y7X1dc-MFr1"
      }
    },
    {
      "cell_type": "code",
      "source": [
        "import pandas as pd\n",
        "\n",
        "def calcular_media_escolaridade_por_faixa_etaria(dados):\n",
        "    faixas_etarias = {\n",
        "        '20 anos ou menos': (0, 20),\n",
        "        '21 a 35 anos': (21, 35),\n",
        "        '36 a 50 anos': (36, 50),\n",
        "        '51 a 65 anos': (51, 65),\n",
        "        'maiores de 65 anos': (66, float('inf'))  # float('inf') representa infinito\n",
        "    }\n",
        "\n",
        "    # Inicializa listas para armazenar os anos de estudo de cada faixa etária\n",
        "    anos_de_estudo_por_faixa = {faixa: [] for faixa in faixas_etarias}\n",
        "\n",
        "    # Itera sobre cada linha do DataFrame\n",
        "    for index, pessoa in dados.iterrows():\n",
        "        idade = pessoa['Idade']\n",
        "        anos_de_estudo = pessoa['Anos de Estudo']\n",
        "\n",
        "        # Verifica em qual faixa etária a pessoa se encaixa\n",
        "        for faixa, (limite_inferior, limite_superior) in faixas_etarias.items():\n",
        "            if limite_inferior <= idade <= limite_superior:\n",
        "                anos_de_estudo_por_faixa[faixa].append(anos_de_estudo)\n",
        "                break  # Uma pessoa só pode pertencer a uma faixa etária\n",
        "\n",
        "    # Calcula a média de anos de estudo para cada faixa etária\n",
        "    medias_por_faixa = {}\n",
        "    for faixa, anos_de_estudo_lista in anos_de_estudo_por_faixa.items():\n",
        "        if anos_de_estudo_lista:\n",
        "            media = sum(anos_de_estudo_lista) / len(anos_de_estudo_lista)\n",
        "            medias_por_faixa[faixa] = media\n",
        "        else:\n",
        "            medias_por_faixa[faixa] = 0  # Se não houver pessoas na faixa etária, média é 0\n",
        "\n",
        "    # Imprime os resultados\n",
        "    for faixa, media in medias_por_faixa.items():\n",
        "        print(f\"Média de anos de estudo para {faixa}: {media:.2f} anos\")\n",
        "\n",
        "arquivo_csv = 'dados.csv'\n",
        "dados = pd.read_csv(arquivo_csv)\n",
        "calcular_media_escolaridade_por_faixa_etaria(dados)\n"
      ],
      "metadata": {
        "colab": {
          "base_uri": "https://localhost:8080/"
        },
        "id": "L3pnxzZKtBKO",
        "outputId": "f3a6d547-e49e-467f-9411-3a772aa01f8a"
      },
      "execution_count": 7,
      "outputs": [
        {
          "output_type": "stream",
          "name": "stdout",
          "text": [
            "Média de anos de estudo para 20 anos ou menos: 9.70 anos\n",
            "Média de anos de estudo para 21 a 35 anos: 10.81 anos\n",
            "Média de anos de estudo para 36 a 50 anos: 9.76 anos\n",
            "Média de anos de estudo para 51 a 65 anos: 8.27 anos\n",
            "Média de anos de estudo para maiores de 65 anos: 5.84 anos\n"
          ]
        }
      ]
    },
    {
      "cell_type": "code",
      "source": [],
      "metadata": {
        "id": "6X6M5T7EMb-G"
      },
      "execution_count": null,
      "outputs": []
    },
    {
      "cell_type": "markdown",
      "source": [
        "Qual a UF que concentra a maior renda?\n"
      ],
      "metadata": {
        "id": "FgEq2x_mMicx"
      }
    },
    {
      "cell_type": "code",
      "source": [
        "import pandas as pd\n",
        "\n",
        "def encontrar_uf_com_maior_renda(dados):\n",
        "    # Agrupa os dados por UF e calcula a média da renda para cada UF\n",
        "    media_renda_uf = dados.groupby('UF')['Renda'].mean()\n",
        "\n",
        "    # Encontra a UF com a maior média de renda\n",
        "    uf_maior_renda = media_renda_uf.idxmax()\n",
        "    renda_maxima = media_renda_uf.max()\n",
        "\n",
        "    return uf_maior_renda, renda_maxima\n",
        "\n",
        "\n",
        "arquivo_csv = 'dados.csv'\n",
        "dados = pd.read_csv(arquivo_csv)\n",
        "uf_maior_renda, renda_maxima = encontrar_uf_com_maior_renda(dados)\n",
        "print(f\"A UF que concentra a maior renda é '{uf_maior_renda}' com média de renda de R${renda_maxima:.2f}\")\n"
      ],
      "metadata": {
        "id": "EFe-4pq8NGRf",
        "colab": {
          "base_uri": "https://localhost:8080/"
        },
        "outputId": "6fe64b12-bdd0-4cbc-b595-7682548f9c01"
      },
      "execution_count": 9,
      "outputs": [
        {
          "output_type": "stream",
          "name": "stdout",
          "text": [
            "A UF que concentra a maior renda é '53' com média de renda de R$4241.95\n"
          ]
        }
      ]
    },
    {
      "cell_type": "markdown",
      "source": [
        "Qual a renda média de pessoas pretas e brancas de homens e mulheres?\n"
      ],
      "metadata": {
        "id": "VFXayO6DNJ3F"
      }
    },
    {
      "cell_type": "code",
      "source": [
        "import pandas as pd\n",
        "\n",
        "def calcular_renda_media_por_cor_e_sexo(dados):\n",
        "    # Mapeia o código de cor para o texto correspondente\n",
        "    mapeamento_cor = {\n",
        "        0: 'Preta',\n",
        "        2: 'Branca',\n",
        "        4: 'Parda',\n",
        "        6: 'Amarela',\n",
        "        8: 'NãoDeclarada'\n",
        "    }\n",
        "\n",
        "    # Substitui o código de cor pelo texto correspondente\n",
        "    dados['Cor'] = dados['Cor'].map(mapeamento_cor)\n",
        "\n",
        "    # Calcula a renda média por cor e sexo\n",
        "    renda_media = dados.groupby(['Cor', 'Sexo'])['Renda'].mean()\n",
        "\n",
        "    return renda_media\n",
        "\n",
        "arquivo_csv = 'dados.csv'\n",
        "dados = pd.read_csv(arquivo_csv)\n",
        "renda_media_por_cor_e_sexo = calcular_renda_media_por_cor_e_sexo(dados)\n",
        "print(\"Renda média por cor e sexo:\")\n",
        "print(renda_media_por_cor_e_sexo)\n"
      ],
      "metadata": {
        "id": "JUO0B9kWNcCX",
        "colab": {
          "base_uri": "https://localhost:8080/"
        },
        "outputId": "12ccef7b-aad7-4f1d-c81d-fe6f19f6276c"
      },
      "execution_count": 12,
      "outputs": [
        {
          "output_type": "stream",
          "name": "stdout",
          "text": [
            "Renda média por cor e sexo:\n",
            "Cor           Sexo\n",
            "Amarela       0       4758.251064\n",
            "              1       3027.341880\n",
            "Branca        0       2925.744435\n",
            "              1       2109.866750\n",
            "NãoDeclarada  0       1659.577425\n",
            "              1       1176.758516\n",
            "Parda         0       1603.861687\n",
            "              1       1134.596400\n",
            "Preta         0       1081.710938\n",
            "              1       2464.386139\n",
            "Name: Renda, dtype: float64\n"
          ]
        }
      ]
    },
    {
      "cell_type": "markdown",
      "source": [
        "Qual a renda média concentrada em cada faixa etária?\n",
        "\n",
        "\n"
      ],
      "metadata": {
        "id": "aqaMxrGMNhQv"
      }
    },
    {
      "cell_type": "code",
      "source": [
        "import pandas as pd\n",
        "\n",
        "def calcular_renda_media_por_faixa_etaria(dados):\n",
        "    # Mapeia o código de cor para a faixa etária correspondente\n",
        "    mapeamento_faixa_etaria = {\n",
        "        0: '20 anos ou menos',\n",
        "        2: '21 a 35 anos',\n",
        "        4: '36 a 50 anos',\n",
        "        6: '51 a 65 anos',\n",
        "        8: 'maiores de 65 anos'\n",
        "    }\n",
        "\n",
        "    # Substitui o código de cor pela faixa etária correspondente\n",
        "    dados['Faixa Etária'] = dados['Cor'].map(mapeamento_faixa_etaria)\n",
        "\n",
        "    # Calcula a renda média por faixa etária\n",
        "    renda_media = dados.groupby('Faixa Etária')['Renda'].mean()\n",
        "\n",
        "    return renda_media\n",
        "\n",
        "\n",
        "arquivo_csv = 'dados.csv'\n",
        "dados = pd.read_csv(arquivo_csv)\n",
        "renda_media_por_faixa_etaria = calcular_renda_media_por_faixa_etaria(dados)\n",
        "print(\"Renda média por faixa etária:\")\n",
        "print(renda_media_por_faixa_etaria)\n"
      ],
      "metadata": {
        "id": "yoT1FXJSzKwj",
        "colab": {
          "base_uri": "https://localhost:8080/"
        },
        "outputId": "4a2bded7-cd04-427c-9cfe-907ecbbc51fa"
      },
      "execution_count": 13,
      "outputs": [
        {
          "output_type": "stream",
          "name": "stdout",
          "text": [
            "Renda média por faixa etária:\n",
            "Faixa Etária\n",
            "20 anos ou menos      1472.887955\n",
            "21 a 35 anos          2679.019331\n",
            "36 a 50 anos          1442.294840\n",
            "51 a 65 anos          4182.920455\n",
            "maiores de 65 anos    1513.596103\n",
            "Name: Renda, dtype: float64\n"
          ]
        }
      ]
    },
    {
      "cell_type": "markdown",
      "source": [
        "Qual a renda média nas faixas de anos de estudo abaixo?\n",
        "- 2 anos ou menos\n",
        "- 3 a 6 anos\n",
        "- 7 a 10 anos\n",
        "- 10 a 12 anos\n",
        "- 13 anos ou mais\n"
      ],
      "metadata": {
        "id": "jMjZzRxr29TF"
      }
    },
    {
      "cell_type": "code",
      "source": [
        "import pandas as pd\n",
        "\n",
        "def calcular_renda_media_por_faixa_de_estudo(dados):\n",
        "    # Define as faixas de anos de estudo\n",
        "    faixas_estudo = [\n",
        "        ('2 anos ou menos', 0, 2),\n",
        "        ('3 a 6 anos', 3, 6),\n",
        "        ('7 a 10 anos', 7, 10),\n",
        "        ('10 a 12 anos', 10, 12),\n",
        "        ('13 anos ou mais', 13, float('inf'))  # float('inf') representa infinito\n",
        "    ]\n",
        "\n",
        "    # Cria uma nova coluna 'Faixa de Estudo' baseada nas faixas definidas\n",
        "    for faixa, limite_inferior, limite_superior in faixas_estudo:\n",
        "        dados.loc[(dados['Anos de Estudo'] >= limite_inferior) & (dados['Anos de Estudo'] <= limite_superior), 'Faixa de Estudo'] = faixa\n",
        "\n",
        "    # Calcula a renda média por faixa de estudo\n",
        "    renda_media = dados.groupby('Faixa de Estudo')['Renda'].mean()\n",
        "\n",
        "    return renda_media\n",
        "\n",
        "\n",
        "arquivo_csv = 'dados.csv'\n",
        "dados = pd.read_csv(arquivo_csv)\n",
        "renda_media_por_faixa_de_estudo = calcular_renda_media_por_faixa_de_estudo(dados)\n",
        "print(\"Renda média por faixa de estudo:\")\n",
        "print(renda_media_por_faixa_de_estudo)\n"
      ],
      "metadata": {
        "id": "ZWpciLPN3Ckx",
        "colab": {
          "base_uri": "https://localhost:8080/"
        },
        "outputId": "dc7d89a5-e248-4800-ca14-191fc88dd4d6"
      },
      "execution_count": 14,
      "outputs": [
        {
          "output_type": "stream",
          "name": "stdout",
          "text": [
            "Renda média por faixa de estudo:\n",
            "Faixa de Estudo\n",
            "10 a 12 anos       1773.133274\n",
            "13 anos ou mais    4434.409106\n",
            "2 anos ou menos     747.096725\n",
            "3 a 6 anos         1089.379778\n",
            "7 a 10 anos        1378.630014\n",
            "Name: Renda, dtype: float64\n"
          ]
        }
      ]
    },
    {
      "cell_type": "markdown",
      "source": [
        "Qual a escolaridade entre indígenas, para homens e mulheres?\n"
      ],
      "metadata": {
        "id": "fDxIIqqS3DHs"
      }
    },
    {
      "cell_type": "code",
      "source": [
        "#não foi possível identificar campo indicando se é indígena"
      ],
      "metadata": {
        "id": "M85a5qNt3E2y"
      },
      "execution_count": null,
      "outputs": []
    },
    {
      "cell_type": "markdown",
      "source": [
        "Qual a média de anos de estudo entre brancos e negros?\n"
      ],
      "metadata": {
        "id": "hgqYfhU33FtF"
      }
    },
    {
      "cell_type": "code",
      "source": [
        "import pandas as pd\n",
        "\n",
        "def calcular_media_anos_estudo_brancos_negros(dados):\n",
        "    # Mapeia o código de cor para o texto correspondente\n",
        "    mapeamento_cor = {\n",
        "        0: 'Preta',\n",
        "        2: 'Branca',\n",
        "        4: 'Parda',\n",
        "        6: 'Amarela',\n",
        "        8: 'NãoDeclarada'\n",
        "    }\n",
        "\n",
        "    # Substitui o código de cor pelo texto correspondente\n",
        "    dados['Cor'] = dados['Cor'].map(mapeamento_cor)\n",
        "\n",
        "    # Calcula a média de anos de estudo por cor\n",
        "    media_anos_estudo = dados.groupby('Cor')['Anos de Estudo'].mean()\n",
        "\n",
        "    return media_anos_estudo\n",
        "\n",
        "arquivo_csv = 'dados.csv'\n",
        "dados = pd.read_csv(arquivo_csv)\n",
        "media_anos_estudo_brancos_negros = calcular_media_anos_estudo_brancos_negros(dados)\n",
        "print(\"Média de anos de estudo por cor:\")\n",
        "print(media_anos_estudo_brancos_negros)\n"
      ],
      "metadata": {
        "id": "EK9X8wTZ3UdS",
        "colab": {
          "base_uri": "https://localhost:8080/"
        },
        "outputId": "794df15a-116d-4cfa-f2c9-4e1010c56d89"
      },
      "execution_count": 15,
      "outputs": [
        {
          "output_type": "stream",
          "name": "stdout",
          "text": [
            "Média de anos de estudo por cor:\n",
            "Cor\n",
            "Amarela         12.556818\n",
            "Branca          10.490303\n",
            "NãoDeclarada     8.689965\n",
            "Parda            8.861518\n",
            "Preta            8.224090\n",
            "Name: Anos de Estudo, dtype: float64\n"
          ]
        }
      ]
    },
    {
      "cell_type": "markdown",
      "source": [
        "Qual a média de anos de estudo e de renda para mulheres brancas, e para mulheres negras?"
      ],
      "metadata": {
        "id": "_ZjroKKB3WBx"
      }
    },
    {
      "cell_type": "code",
      "source": [
        "import pandas as pd\n",
        "\n",
        "def calcular_media_anos_estudo_renda_mulheres(dados):\n",
        "    # Mapeia o código de cor para o texto correspondente\n",
        "    mapeamento_cor = {\n",
        "        0: 'Preta',\n",
        "        2: 'Branca',\n",
        "        4: 'Parda',\n",
        "        6: 'Amarela',\n",
        "        8: 'NãoDeclarada'\n",
        "    }\n",
        "\n",
        "    # Substitui o código de cor pelo texto correspondente\n",
        "    dados['Cor'] = dados['Cor'].map(mapeamento_cor)\n",
        "\n",
        "    # Filtra apenas mulheres (Sexo == 'Feminino')\n",
        "    dados_mulheres = dados[dados['Sexo'] == 0]\n",
        "\n",
        "    # Calcula a média de anos de estudo e renda para mulheres brancas e mulheres negras\n",
        "    media_anos_estudo = dados_mulheres.groupby('Cor')['Anos de Estudo'].mean()\n",
        "    media_renda = dados_mulheres.groupby('Cor')['Renda'].mean()\n",
        "\n",
        "    return media_anos_estudo, media_renda\n",
        "\n",
        "\n",
        "arquivo_csv = 'dados.csv'\n",
        "dados = pd.read_csv(arquivo_csv)\n",
        "media_anos_estudo, media_renda = calcular_media_anos_estudo_renda_mulheres(dados)\n",
        "print(\"Média de anos de estudo por cor para mulheres:\")\n",
        "print(media_anos_estudo)\n",
        "print(\"\\nMédia de renda por cor para mulheres:\")\n",
        "print(media_renda)\n"
      ],
      "metadata": {
        "id": "7dx7zW7M3Wau",
        "colab": {
          "base_uri": "https://localhost:8080/"
        },
        "outputId": "4f5b94da-8358-457c-930e-fd88682cb758"
      },
      "execution_count": 18,
      "outputs": [
        {
          "output_type": "stream",
          "name": "stdout",
          "text": [
            "Média de anos de estudo por cor para mulheres:\n",
            "Cor\n",
            "Amarela         12.587234\n",
            "Branca          10.140353\n",
            "NãoDeclarada     8.329929\n",
            "Parda            8.514540\n",
            "Preta            7.875000\n",
            "Name: Anos de Estudo, dtype: float64\n",
            "\n",
            "Média de renda por cor para mulheres:\n",
            "Cor\n",
            "Amarela         4758.251064\n",
            "Branca          2925.744435\n",
            "NãoDeclarada    1659.577425\n",
            "Parda           1603.861687\n",
            "Preta           1081.710938\n",
            "Name: Renda, dtype: float64\n"
          ]
        }
      ]
    },
    {
      "cell_type": "markdown",
      "source": [
        " Qual é a UF com maior média de escolaridade e qual a UF com maior média de renda?"
      ],
      "metadata": {
        "id": "sG2Kkkrd3X5V"
      }
    },
    {
      "cell_type": "code",
      "source": [
        "import pandas as pd\n",
        "\n",
        "def encontrar_uf_com_maior_media_escolaridade_renda(dados):\n",
        "    # Calcula a média de escolaridade por UF\n",
        "    media_escolaridade = dados.groupby('UF')['Anos de Estudo'].mean()\n",
        "\n",
        "    # Calcula a média de renda por UF\n",
        "    media_renda = dados.groupby('UF')['Renda'].mean()\n",
        "\n",
        "    # Encontra a UF com maior média de escolaridade\n",
        "    uf_maior_media_escolaridade = media_escolaridade.idxmax()\n",
        "    maior_media_escolaridade = media_escolaridade.max()\n",
        "\n",
        "    # Encontra a UF com maior média de renda\n",
        "    uf_maior_media_renda = media_renda.idxmax()\n",
        "    maior_media_renda = media_renda.max()\n",
        "\n",
        "    return (uf_maior_media_escolaridade, maior_media_escolaridade), (uf_maior_media_renda, maior_media_renda)\n",
        "\n",
        "arquivo_csv = 'dados.csv'\n",
        "dados = pd.read_csv(arquivo_csv)\n",
        "resultado_escolaridade, resultado_renda = encontrar_uf_com_maior_media_escolaridade_renda(dados)\n",
        "print(\"UF com maior média de escolaridade:\")\n",
        "print(f\"{resultado_escolaridade[0]}: {resultado_escolaridade[1]:.2f} anos de estudo em média\")\n",
        "print(\"\\nUF com maior média de renda:\")\n",
        "print(f\"{resultado_renda[0]}: R$ {resultado_renda[1]:.2f} em média\")\n"
      ],
      "metadata": {
        "id": "imgwaOGk3YNq",
        "colab": {
          "base_uri": "https://localhost:8080/"
        },
        "outputId": "cdf2311a-fac1-452b-e971-e7eb0d237a66"
      },
      "execution_count": 19,
      "outputs": [
        {
          "output_type": "stream",
          "name": "stdout",
          "text": [
            "UF com maior média de escolaridade:\n",
            "53: 11.91 anos de estudo em média\n",
            "\n",
            "UF com maior média de renda:\n",
            "53: R$ 4241.95 em média\n"
          ]
        }
      ]
    },
    {
      "cell_type": "markdown",
      "source": [
        "Elabore você uma pergunta sobre a base de dados e escreva o código para responder a pergunta."
      ],
      "metadata": {
        "id": "72Oy_JJ_3Z7F"
      }
    },
    {
      "cell_type": "code",
      "source": [
        "#Qual média de anos de estudo para o estado de maior renda?\n",
        "\n",
        "import pandas as pd\n",
        "\n",
        "def calcular_media_anos_estudo_estado_maior_renda(dados):\n",
        "    # Calcula a média de anos de estudo por UF\n",
        "    media_anos_estudo_por_uf = dados.groupby('UF')['Anos de Estudo'].mean()\n",
        "\n",
        "    # Encontra o estado com maior renda\n",
        "    estado_maior_renda = dados.groupby('UF')['Renda'].mean().idxmax()\n",
        "\n",
        "    # Calcula a média de anos de estudo para o estado com maior renda\n",
        "    media_anos_estudo_estado_maior_renda = media_anos_estudo_por_uf[estado_maior_renda]\n",
        "\n",
        "    return media_anos_estudo_estado_maior_renda\n",
        "\n",
        "arquivo_csv = 'dados.csv'\n",
        "dados = pd.read_csv(arquivo_csv)\n",
        "media_anos_estudo_estado_maior_renda = calcular_media_anos_estudo_estado_maior_renda(dados)\n",
        "print(f\"Média de anos de estudo para o estado com maior renda: {media_anos_estudo_estado_maior_renda:.2f} anos\")\n"
      ],
      "metadata": {
        "id": "YZFVy7UM3aPC",
        "colab": {
          "base_uri": "https://localhost:8080/"
        },
        "outputId": "9697376c-e9a1-406d-a275-80747a6ebd86"
      },
      "execution_count": 20,
      "outputs": [
        {
          "output_type": "stream",
          "name": "stdout",
          "text": [
            "Média de anos de estudo para o estado com maior renda: 11.91 anos\n"
          ]
        }
      ]
    }
  ]
}